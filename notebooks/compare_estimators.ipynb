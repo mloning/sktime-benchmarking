{
 "cells": [
  {
   "cell_type": "code",
   "execution_count": 1,
   "metadata": {},
   "outputs": [],
   "source": [
    "import pandas as pd\n",
    "import os \n",
    "import glob\n",
    "import matplotlib.pyplot as plt\n",
    "import numpy as np\n",
    "from scipy.stats import wilcoxon, binom_test\n",
    "from itertools import combinations\n",
    "from IPython.display import display\n",
    "from itertools import product\n",
    "import seaborn as sns\n",
    "%matplotlib inline\n",
    "\n",
    "def compare_results(x, y):\n",
    "    a = x.values\n",
    "    b = y.values\n",
    "\n",
    "    # wilcoxon test\n",
    "    pwil = wilcoxon(a, b).pvalue\n",
    "    \n",
    "    # binomial test\n",
    "    x_wins = np.mean(a > b)\n",
    "    y_wins = np.mean(b > a)\n",
    "    draw = np.mean(a == b)\n",
    "    pbin = binom_test(np.sum(x_wins), n=x.shape[0], p=0.5, alternative='two-sided')\n",
    "    diff = x - y\n",
    "    \n",
    "    # combine results\n",
    "    results = pd.Series({'wilcoxon_pval': pwil,\n",
    "                        'x_wins': x_wins, \n",
    "                        'y_wins': y_wins, \n",
    "                        'draw': draw,\n",
    "                        'binomial_pval': pbin})\n",
    "    results = pd.concat([results, diff.describe()], axis=0)\n",
    "    # display results\n",
    "    display(pd.DataFrame(results).T.drop(columns='count').round(3))\n",
    "    \n",
    "    # scatter plot\n",
    "    fig, ax = plt.subplots(1)\n",
    "    ax.scatter(a, b)\n",
    "    ax.plot([0, np.max([np.max(x), np.max(y)])], \n",
    "            [0, np.max([np.max(x), np.max(y)])], \n",
    "            'red', linewidth=1)\n",
    "    # ax.set_aspect('equal')\n",
    "    ax.set(xlabel=x.name, ylabel=y.name);\n",
    "\n",
    "HOME = os.path.expanduser(\"~\")\n",
    "PATH = os.path.join(HOME, \"Documents/Research/toolboxes/sktime-benchmarking/results/\")"
   ]
  },
  {
   "cell_type": "code",
   "execution_count": 5,
   "metadata": {},
   "outputs": [],
   "source": [
    "rotf = pd.read_csv(os.path.join(PATH, \"rotf/accuracy_rotf_updated.csv\"), index_col=0, header=0)\n",
    "rotf = rotf.rename(columns={\"accuracy_mean\": \"markus\"}).drop(columns=\"accuracy_stderr\").set_index(\"dataset\")\n",
    "\n",
    "# rotf = pd.read_csv(os.path.join(PATH, \"rotf/accuracy_nobootstrap.csv\"), index_col=0, header=0)\n",
    "# rotf = rotf.rename(columns={\"mean\": \"markus\"}).set_index(\"dataset\")"
   ]
  },
  {
   "cell_type": "code",
   "execution_count": 6,
   "metadata": {},
   "outputs": [],
   "source": [
    "# original = pd.read_csv(os.path.join(PATH, \"AllSplits/RotF.csv\"), header=None)\n",
    "# original = original.iloc[:, :2].rename(columns={0: \"dataset\", 1: \"java\"}).set_index(\"dataset\")\n",
    "\n",
    "original = pd.read_csv(os.path.join(PATH, \"rotf/TrainTestRotF.csv\"), header=None)\n",
    "original = original.iloc[:, :2].rename(columns={0: \"dataset\", 1: \"java\"}).set_index(\"dataset\").loc[:, \"java\"]"
   ]
  },
  {
   "cell_type": "code",
   "execution_count": 7,
   "metadata": {},
   "outputs": [],
   "source": [
    "merged = pd.concat([rotf, original], axis=1, sort=False).dropna(axis=0)"
   ]
  },
  {
   "cell_type": "code",
   "execution_count": 8,
   "metadata": {},
   "outputs": [
    {
     "data": {
      "text/html": [
       "<div>\n",
       "<style scoped>\n",
       "    .dataframe tbody tr th:only-of-type {\n",
       "        vertical-align: middle;\n",
       "    }\n",
       "\n",
       "    .dataframe tbody tr th {\n",
       "        vertical-align: top;\n",
       "    }\n",
       "\n",
       "    .dataframe thead th {\n",
       "        text-align: right;\n",
       "    }\n",
       "</style>\n",
       "<table border=\"1\" class=\"dataframe\">\n",
       "  <thead>\n",
       "    <tr style=\"text-align: right;\">\n",
       "      <th></th>\n",
       "      <th>wilcoxon_pval</th>\n",
       "      <th>x_wins</th>\n",
       "      <th>y_wins</th>\n",
       "      <th>draw</th>\n",
       "      <th>binomial_pval</th>\n",
       "      <th>mean</th>\n",
       "      <th>std</th>\n",
       "      <th>min</th>\n",
       "      <th>25%</th>\n",
       "      <th>50%</th>\n",
       "      <th>75%</th>\n",
       "      <th>max</th>\n",
       "    </tr>\n",
       "  </thead>\n",
       "  <tbody>\n",
       "    <tr>\n",
       "      <th>0</th>\n",
       "      <td>0.002</td>\n",
       "      <td>0.364</td>\n",
       "      <td>0.545</td>\n",
       "      <td>0.091</td>\n",
       "      <td>0.0</td>\n",
       "      <td>-0.01</td>\n",
       "      <td>0.03</td>\n",
       "      <td>-0.171</td>\n",
       "      <td>-0.021</td>\n",
       "      <td>-0.003</td>\n",
       "      <td>0.007</td>\n",
       "      <td>0.075</td>\n",
       "    </tr>\n",
       "  </tbody>\n",
       "</table>\n",
       "</div>"
      ],
      "text/plain": [
       "   wilcoxon_pval  x_wins  y_wins   draw  binomial_pval  mean   std    min  \\\n",
       "0          0.002   0.364   0.545  0.091            0.0 -0.01  0.03 -0.171   \n",
       "\n",
       "     25%    50%    75%    max  \n",
       "0 -0.021 -0.003  0.007  0.075  "
      ]
     },
     "metadata": {},
     "output_type": "display_data"
    },
    {
     "data": {
      "image/png": "[encoded data removed]",
      "text/plain": [
       "<Figure size 432x288 with 1 Axes>"
      ]
     },
     "metadata": {
      "needs_background": "light"
     },
     "output_type": "display_data"
    }
   ],
   "source": [
    "compare_results(merged.markus, merged.java)"
   ]
  },
  {
   "cell_type": "code",
   "execution_count": 20,
   "metadata": {},
   "outputs": [
    {
     "data": {
      "image/png": "[encoded data removed]",
      "text/plain": [
       "<Figure size 432x288 with 1 Axes>"
      ]
     },
     "metadata": {
      "needs_background": "light"
     },
     "output_type": "display_data"
    }
   ],
   "source": [
    "diff = merged.markus - merged.java\n",
    "diff.hist();"
   ]
  },
  {
   "cell_type": "code",
   "execution_count": 10,
   "metadata": {},
   "outputs": [
    {
     "data": {
      "text/plain": [
       "SemgHandMovementCh2   -0.171111\n",
       "EOGHorizontalSignal   -0.124309\n",
       "SemgHandGenderCh2     -0.083333\n",
       "FaceFour              -0.068182\n",
       "SemgHandSubjectCh2    -0.064444\n",
       "BeetleFly             -0.050000\n",
       "BirdChicken           -0.050000\n",
       "Computers             -0.048000\n",
       "InsectWingbeatSound   -0.045455\n",
       "MiddlePhalanxTW       -0.038961\n",
       "dtype: float64"
      ]
     },
     "execution_count": 10,
     "metadata": {},
     "output_type": "execute_result"
    }
   ],
   "source": [
    "diff.sort_values().head(10)"
   ]
  },
  {
   "cell_type": "code",
   "execution_count": 11,
   "metadata": {},
   "outputs": [
    {
     "data": {
      "text/plain": [
       "array(['SemgHandMovementCh2', 'EOGHorizontalSignal', 'SemgHandGenderCh2',\n",
       "       'FaceFour', 'SemgHandSubjectCh2', 'BeetleFly', 'BirdChicken',\n",
       "       'Computers', 'InsectWingbeatSound', 'MiddlePhalanxTW'],\n",
       "      dtype=object)"
      ]
     },
     "execution_count": 11,
     "metadata": {},
     "output_type": "execute_result"
    }
   ],
   "source": [
    "worst = diff.sort_values().index[:10].values\n",
    "worst"
   ]
  },
  {
   "cell_type": "code",
   "execution_count": 19,
   "metadata": {},
   "outputs": [
    {
     "data": {
      "text/html": [
       "<div>\n",
       "<style scoped>\n",
       "    .dataframe tbody tr th:only-of-type {\n",
       "        vertical-align: middle;\n",
       "    }\n",
       "\n",
       "    .dataframe tbody tr th {\n",
       "        vertical-align: top;\n",
       "    }\n",
       "\n",
       "    .dataframe thead th {\n",
       "        text-align: right;\n",
       "    }\n",
       "</style>\n",
       "<table border=\"1\" class=\"dataframe\">\n",
       "  <thead>\n",
       "    <tr style=\"text-align: right;\">\n",
       "      <th></th>\n",
       "      <th>strategy</th>\n",
       "      <th>markus</th>\n",
       "      <th>java</th>\n",
       "      <th>diff</th>\n",
       "    </tr>\n",
       "  </thead>\n",
       "  <tbody>\n",
       "    <tr>\n",
       "      <th>SemgHandMovementCh2</th>\n",
       "      <td>rotf</td>\n",
       "      <td>0.455556</td>\n",
       "      <td>0.626667</td>\n",
       "      <td>-0.171111</td>\n",
       "    </tr>\n",
       "    <tr>\n",
       "      <th>EOGHorizontalSignal</th>\n",
       "      <td>rotf</td>\n",
       "      <td>0.389503</td>\n",
       "      <td>0.513812</td>\n",
       "      <td>-0.124309</td>\n",
       "    </tr>\n",
       "    <tr>\n",
       "      <th>SemgHandGenderCh2</th>\n",
       "      <td>rotf</td>\n",
       "      <td>0.873333</td>\n",
       "      <td>0.956667</td>\n",
       "      <td>-0.083333</td>\n",
       "    </tr>\n",
       "    <tr>\n",
       "      <th>FaceFour</th>\n",
       "      <td>rotf</td>\n",
       "      <td>0.806818</td>\n",
       "      <td>0.875000</td>\n",
       "      <td>-0.068182</td>\n",
       "    </tr>\n",
       "    <tr>\n",
       "      <th>SemgHandSubjectCh2</th>\n",
       "      <td>rotf</td>\n",
       "      <td>0.784444</td>\n",
       "      <td>0.848889</td>\n",
       "      <td>-0.064444</td>\n",
       "    </tr>\n",
       "    <tr>\n",
       "      <th>BeetleFly</th>\n",
       "      <td>rotf</td>\n",
       "      <td>0.900000</td>\n",
       "      <td>0.950000</td>\n",
       "      <td>-0.050000</td>\n",
       "    </tr>\n",
       "    <tr>\n",
       "      <th>BirdChicken</th>\n",
       "      <td>rotf</td>\n",
       "      <td>0.800000</td>\n",
       "      <td>0.850000</td>\n",
       "      <td>-0.050000</td>\n",
       "    </tr>\n",
       "    <tr>\n",
       "      <th>Computers</th>\n",
       "      <td>rotf</td>\n",
       "      <td>0.616000</td>\n",
       "      <td>0.664000</td>\n",
       "      <td>-0.048000</td>\n",
       "    </tr>\n",
       "    <tr>\n",
       "      <th>InsectWingbeatSound</th>\n",
       "      <td>rotf</td>\n",
       "      <td>0.614141</td>\n",
       "      <td>0.659596</td>\n",
       "      <td>-0.045455</td>\n",
       "    </tr>\n",
       "    <tr>\n",
       "      <th>MiddlePhalanxTW</th>\n",
       "      <td>rotf</td>\n",
       "      <td>0.538961</td>\n",
       "      <td>0.577922</td>\n",
       "      <td>-0.038961</td>\n",
       "    </tr>\n",
       "  </tbody>\n",
       "</table>\n",
       "</div>"
      ],
      "text/plain": [
       "                    strategy    markus      java      diff\n",
       "SemgHandMovementCh2     rotf  0.455556  0.626667 -0.171111\n",
       "EOGHorizontalSignal     rotf  0.389503  0.513812 -0.124309\n",
       "SemgHandGenderCh2       rotf  0.873333  0.956667 -0.083333\n",
       "FaceFour                rotf  0.806818  0.875000 -0.068182\n",
       "SemgHandSubjectCh2      rotf  0.784444  0.848889 -0.064444\n",
       "BeetleFly               rotf  0.900000  0.950000 -0.050000\n",
       "BirdChicken             rotf  0.800000  0.850000 -0.050000\n",
       "Computers               rotf  0.616000  0.664000 -0.048000\n",
       "InsectWingbeatSound     rotf  0.614141  0.659596 -0.045455\n",
       "MiddlePhalanxTW         rotf  0.538961  0.577922 -0.038961"
      ]
     },
     "execution_count": 19,
     "metadata": {},
     "output_type": "execute_result"
    }
   ],
   "source": [
    "# merged.loc[[\"MiddlePhalanxOutlineAgeGroup\",\n",
    "#                  \"MiddlePhalanxOutlineCorrect\",\n",
    "#                  \"PhalangesOutlinesCorrect\"]]\n",
    "merged['diff'] = merged.markus - merged.java\n",
    "merged.sort_values('diff').head(10)"
   ]
  },
  {
   "cell_type": "code",
   "execution_count": null,
   "metadata": {},
   "outputs": [],
   "source": []
  }
 ],
 "metadata": {
  "kernelspec": {
   "display_name": "Python 3",
   "language": "python",
   "name": "python3"
  },
  "language_info": {
   "codemirror_mode": {
    "name": "ipython",
    "version": 3
   },
   "file_extension": ".py",
   "mimetype": "text/x-python",
   "name": "python",
   "nbconvert_exporter": "python",
   "pygments_lexer": "ipython3",
   "version": "3.7.6"
  }
 },
 "nbformat": 4,
 "nbformat_minor": 2
}
