{
 "cells": [
  {
   "cell_type": "code",
   "execution_count": 1,
   "metadata": {},
   "outputs": [
    {
     "name": "stdout",
     "output_type": "stream",
     "text": [
      "/home/ucfamml/.conda/envs/sktime/bin/python\n"
     ]
    }
   ],
   "source": [
    "import clevercsv\n",
    "\n",
    "import sys\n",
    "print(sys.executable)\n",
    "\n",
    "import pandas as pd\n",
    "import os \n",
    "import glob\n",
    "import matplotlib.pyplot as plt\n",
    "import numpy as np\n",
    "from scipy.stats import wilcoxon, binom_test\n",
    "from itertools import combinations\n",
    "from IPython.display import display\n",
    "from itertools import product\n",
    "import seaborn as sns\n",
    "%matplotlib inline\n",
    "\n",
    "def compare_results(x, y):\n",
    "    a = x.values\n",
    "    b = y.values\n",
    "\n",
    "    # wilcoxon test\n",
    "    pwil = wilcoxon(a, b).pvalue\n",
    "    \n",
    "    # binomial test\n",
    "    x_wins = np.mean(a > b)\n",
    "    y_wins = np.mean(b > a)\n",
    "    draw = np.mean(a == b)\n",
    "    pbin = binom_test(np.sum(x_wins), n=x.shape[0], p=0.5, alternative='two-sided')\n",
    "    diff = x - y\n",
    "    \n",
    "    # combine results\n",
    "    results = pd.Series({'wilcoxon_pval': pwil,\n",
    "                        'x_wins': x_wins, \n",
    "                        'y_wins': y_wins, \n",
    "                        'draw': draw,\n",
    "                        'binomial_pval': pbin})\n",
    "    results = pd.concat([results, diff.describe()], axis=0)\n",
    "    # display results\n",
    "    display(pd.DataFrame(results).T.drop(columns='count').round(3))\n",
    "    \n",
    "    # scatter plot\n",
    "    fig, ax = plt.subplots(1)\n",
    "    ax.scatter(a, b)\n",
    "    ax.plot([0, np.max([np.max(x), np.max(y)])], \n",
    "            [0, np.max([np.max(x), np.max(y)])], \n",
    "            'red', linewidth=1)\n",
    "    # ax.set_aspect('equal')\n",
    "    ax.set(xlabel=x.name, ylabel=y.name);\n",
    "\n",
    "HOME = os.path.expanduser(\"~\")\n",
    "PATH = os.path.join(HOME, \"Documents/Research/toolboxes/sktime-benchmarking/results/\")"
   ]
  },
  {
   "cell_type": "code",
   "execution_count": 2,
   "metadata": {},
   "outputs": [],
   "source": [
    "tsfresh = pd.read_csv(os.path.join(PATH, \"tsfresh/accuracy.csv\"), index_col=0, header=0)\n",
    "tsfresh = tsfresh.drop(columns=\"accuracy_stderr\").pivot(index=\"dataset\", columns=\"strategy\", values=\"accuracy_mean\")\n",
    "\n",
    "results = pd.read_csv(os.path.join(PATH, \"Resamples.csv\"), index_col=0)  # published results"
   ]
  },
  {
   "cell_type": "code",
   "execution_count": 9,
   "metadata": {},
   "outputs": [],
   "source": [
    "HOME = os.path.expanduser(\"~\")\n",
    "path = os.path.join(HOME, \"Documents/Research/toolboxes/sktime/sktime-benchmarking/results/tsfresh\")"
   ]
  },
  {
   "cell_type": "code",
   "execution_count": 34,
   "metadata": {},
   "outputs": [],
   "source": [
    "from sktime.benchmarking.evaluation import Evaluator\n",
    "from sktime.benchmarking.results import HDDResults\n",
    "from sktime.benchmarking.metrics import PairwiseMetric\n",
    "from sklearn.metrics import accuracy_score\n",
    "from sktime.model_selection import PresplitFilesCV\n",
    "\n",
    "results = HDDResults(path)\n",
    "results.cv = PresplitFilesCV()\n",
    "\n",
    "evaluator = Evaluator(results=results)\n",
    "evaluator._metrics = pd.DataFrame()\n",
    "metric = PairwiseMetric(func=accuracy_score, name=\"accuracy\")"
   ]
  },
  {
   "cell_type": "code",
   "execution_count": null,
   "metadata": {},
   "outputs": [],
   "source": []
  },
  {
   "cell_type": "code",
   "execution_count": null,
   "metadata": {},
   "outputs": [],
   "source": []
  },
  {
   "cell_type": "code",
   "execution_count": 29,
   "metadata": {},
   "outputs": [
    {
     "ename": "MergeError",
     "evalue": "No common columns to perform merge on. Merge options: left_on=None, right_on=None, left_index=False, right_index=False",
     "output_type": "error",
     "traceback": [
      "\u001b[0;31m---------------------------------------------------------------------------\u001b[0m",
      "\u001b[0;31mMergeError\u001b[0m                                Traceback (most recent call last)",
      "\u001b[0;32m<ipython-input-29-b5331ddf36da>\u001b[0m in \u001b[0;36m<module>\u001b[0;34m\u001b[0m\n\u001b[0;32m----> 1\u001b[0;31m \u001b[0mevaluator\u001b[0m\u001b[0;34m.\u001b[0m\u001b[0mevaluate\u001b[0m\u001b[0;34m(\u001b[0m\u001b[0mmetric\u001b[0m\u001b[0;34m)\u001b[0m\u001b[0;34m\u001b[0m\u001b[0;34m\u001b[0m\u001b[0m\n\u001b[0m",
      "\u001b[0;32m~/Documents/Research/toolboxes/sktime/sktime/benchmarking/evaluation.py\u001b[0m in \u001b[0;36mevaluate\u001b[0;34m(self, metric, train_or_test, cv_fold)\u001b[0m\n\u001b[1;32m     99\u001b[0m         \u001b[0;31m# update metrics dataframe with computed metrics\u001b[0m\u001b[0;34m\u001b[0m\u001b[0;34m\u001b[0m\u001b[0;34m\u001b[0m\u001b[0m\n\u001b[1;32m    100\u001b[0m         \u001b[0mmetrics\u001b[0m \u001b[0;34m=\u001b[0m \u001b[0mpd\u001b[0m\u001b[0;34m.\u001b[0m\u001b[0mDataFrame\u001b[0m\u001b[0;34m(\u001b[0m\u001b[0mself\u001b[0m\u001b[0;34m.\u001b[0m\u001b[0m_metric_dicts\u001b[0m\u001b[0;34m)\u001b[0m\u001b[0;34m\u001b[0m\u001b[0;34m\u001b[0m\u001b[0m\n\u001b[0;32m--> 101\u001b[0;31m         \u001b[0mself\u001b[0m\u001b[0;34m.\u001b[0m\u001b[0m_metrics\u001b[0m \u001b[0;34m=\u001b[0m \u001b[0mself\u001b[0m\u001b[0;34m.\u001b[0m\u001b[0m_metrics\u001b[0m\u001b[0;34m.\u001b[0m\u001b[0mmerge\u001b[0m\u001b[0;34m(\u001b[0m\u001b[0mmetrics\u001b[0m\u001b[0;34m,\u001b[0m \u001b[0mhow\u001b[0m\u001b[0;34m=\u001b[0m\u001b[0;34m\"outer\"\u001b[0m\u001b[0;34m)\u001b[0m\u001b[0;34m\u001b[0m\u001b[0;34m\u001b[0m\u001b[0m\n\u001b[0m\u001b[1;32m    102\u001b[0m \u001b[0;34m\u001b[0m\u001b[0m\n\u001b[1;32m    103\u001b[0m         \u001b[0;31m# aggregate results\u001b[0m\u001b[0;34m\u001b[0m\u001b[0;34m\u001b[0m\u001b[0;34m\u001b[0m\u001b[0m\n",
      "\u001b[0;32m~/.conda/envs/sktime/lib/python3.7/site-packages/pandas/core/frame.py\u001b[0m in \u001b[0;36mmerge\u001b[0;34m(self, right, how, on, left_on, right_on, left_index, right_index, sort, suffixes, copy, indicator, validate)\u001b[0m\n\u001b[1;32m   7295\u001b[0m             \u001b[0mcopy\u001b[0m\u001b[0;34m=\u001b[0m\u001b[0mcopy\u001b[0m\u001b[0;34m,\u001b[0m\u001b[0;34m\u001b[0m\u001b[0;34m\u001b[0m\u001b[0m\n\u001b[1;32m   7296\u001b[0m             \u001b[0mindicator\u001b[0m\u001b[0;34m=\u001b[0m\u001b[0mindicator\u001b[0m\u001b[0;34m,\u001b[0m\u001b[0;34m\u001b[0m\u001b[0;34m\u001b[0m\u001b[0m\n\u001b[0;32m-> 7297\u001b[0;31m             \u001b[0mvalidate\u001b[0m\u001b[0;34m=\u001b[0m\u001b[0mvalidate\u001b[0m\u001b[0;34m,\u001b[0m\u001b[0;34m\u001b[0m\u001b[0;34m\u001b[0m\u001b[0m\n\u001b[0m\u001b[1;32m   7298\u001b[0m         )\n\u001b[1;32m   7299\u001b[0m \u001b[0;34m\u001b[0m\u001b[0m\n",
      "\u001b[0;32m~/.conda/envs/sktime/lib/python3.7/site-packages/pandas/core/reshape/merge.py\u001b[0m in \u001b[0;36mmerge\u001b[0;34m(left, right, how, on, left_on, right_on, left_index, right_index, sort, suffixes, copy, indicator, validate)\u001b[0m\n\u001b[1;32m     84\u001b[0m         \u001b[0mcopy\u001b[0m\u001b[0;34m=\u001b[0m\u001b[0mcopy\u001b[0m\u001b[0;34m,\u001b[0m\u001b[0;34m\u001b[0m\u001b[0;34m\u001b[0m\u001b[0m\n\u001b[1;32m     85\u001b[0m         \u001b[0mindicator\u001b[0m\u001b[0;34m=\u001b[0m\u001b[0mindicator\u001b[0m\u001b[0;34m,\u001b[0m\u001b[0;34m\u001b[0m\u001b[0;34m\u001b[0m\u001b[0m\n\u001b[0;32m---> 86\u001b[0;31m         \u001b[0mvalidate\u001b[0m\u001b[0;34m=\u001b[0m\u001b[0mvalidate\u001b[0m\u001b[0;34m,\u001b[0m\u001b[0;34m\u001b[0m\u001b[0;34m\u001b[0m\u001b[0m\n\u001b[0m\u001b[1;32m     87\u001b[0m     )\n\u001b[1;32m     88\u001b[0m     \u001b[0;32mreturn\u001b[0m \u001b[0mop\u001b[0m\u001b[0;34m.\u001b[0m\u001b[0mget_result\u001b[0m\u001b[0;34m(\u001b[0m\u001b[0;34m)\u001b[0m\u001b[0;34m\u001b[0m\u001b[0;34m\u001b[0m\u001b[0m\n",
      "\u001b[0;32m~/.conda/envs/sktime/lib/python3.7/site-packages/pandas/core/reshape/merge.py\u001b[0m in \u001b[0;36m__init__\u001b[0;34m(self, left, right, how, on, left_on, right_on, axis, left_index, right_index, sort, suffixes, copy, indicator, validate)\u001b[0m\n\u001b[1;32m    618\u001b[0m             \u001b[0mwarnings\u001b[0m\u001b[0;34m.\u001b[0m\u001b[0mwarn\u001b[0m\u001b[0;34m(\u001b[0m\u001b[0mmsg\u001b[0m\u001b[0;34m,\u001b[0m \u001b[0mUserWarning\u001b[0m\u001b[0;34m)\u001b[0m\u001b[0;34m\u001b[0m\u001b[0;34m\u001b[0m\u001b[0m\n\u001b[1;32m    619\u001b[0m \u001b[0;34m\u001b[0m\u001b[0m\n\u001b[0;32m--> 620\u001b[0;31m         \u001b[0mself\u001b[0m\u001b[0;34m.\u001b[0m\u001b[0m_validate_specification\u001b[0m\u001b[0;34m(\u001b[0m\u001b[0;34m)\u001b[0m\u001b[0;34m\u001b[0m\u001b[0;34m\u001b[0m\u001b[0m\n\u001b[0m\u001b[1;32m    621\u001b[0m \u001b[0;34m\u001b[0m\u001b[0m\n\u001b[1;32m    622\u001b[0m         \u001b[0;31m# note this function has side effects\u001b[0m\u001b[0;34m\u001b[0m\u001b[0;34m\u001b[0m\u001b[0;34m\u001b[0m\u001b[0m\n",
      "\u001b[0;32m~/.conda/envs/sktime/lib/python3.7/site-packages/pandas/core/reshape/merge.py\u001b[0m in \u001b[0;36m_validate_specification\u001b[0;34m(self)\u001b[0m\n\u001b[1;32m   1196\u001b[0m                             \u001b[0mron\u001b[0m\u001b[0;34m=\u001b[0m\u001b[0mself\u001b[0m\u001b[0;34m.\u001b[0m\u001b[0mright_on\u001b[0m\u001b[0;34m,\u001b[0m\u001b[0;34m\u001b[0m\u001b[0;34m\u001b[0m\u001b[0m\n\u001b[1;32m   1197\u001b[0m                             \u001b[0mlidx\u001b[0m\u001b[0;34m=\u001b[0m\u001b[0mself\u001b[0m\u001b[0;34m.\u001b[0m\u001b[0mleft_index\u001b[0m\u001b[0;34m,\u001b[0m\u001b[0;34m\u001b[0m\u001b[0;34m\u001b[0m\u001b[0m\n\u001b[0;32m-> 1198\u001b[0;31m                             \u001b[0mridx\u001b[0m\u001b[0;34m=\u001b[0m\u001b[0mself\u001b[0m\u001b[0;34m.\u001b[0m\u001b[0mright_index\u001b[0m\u001b[0;34m,\u001b[0m\u001b[0;34m\u001b[0m\u001b[0;34m\u001b[0m\u001b[0m\n\u001b[0m\u001b[1;32m   1199\u001b[0m                         )\n\u001b[1;32m   1200\u001b[0m                     )\n",
      "\u001b[0;31mMergeError\u001b[0m: No common columns to perform merge on. Merge options: left_on=None, right_on=None, left_index=False, right_index=False"
     ]
    }
   ],
   "source": [
    "evaluator.evaluate(metric)"
   ]
  },
  {
   "cell_type": "code",
   "execution_count": null,
   "metadata": {},
   "outputs": [],
   "source": []
  },
  {
   "cell_type": "code",
   "execution_count": 12,
   "metadata": {},
   "outputs": [
    {
     "data": {
      "text/plain": [
       "HIVE-COTE                    2.98750\n",
       "Flat-COTE                    4.87500\n",
       "ST                           9.33125\n",
       "BOSS                         9.91875\n",
       "EE                          11.55000\n",
       "DTW_F                       14.18750\n",
       "TSF                         15.18125\n",
       "TSBF                        15.36250\n",
       "LS                          16.03125\n",
       "tsfresh_rf_comprehensive    16.10000\n",
       "tsfresh_rf                  16.62500\n",
       "RotF                        17.26875\n",
       "LPS                         17.41250\n",
       "MSM_1NN                     17.41250\n",
       "DD_DTW                      19.32500\n",
       "DTD_C                       19.63750\n",
       "LCSS_1NN                    19.77500\n",
       "TWE_1NN                     19.80625\n",
       "CID_DTW                     19.86250\n",
       "WDTW_1NN                    20.17500\n",
       "DTW_Rn_1NN                  20.99375\n",
       "ERP_1NN                     21.06250\n",
       "RandF                       21.38125\n",
       "WDDTW_1NN                   22.36875\n",
       "SVMQ                        22.85000\n",
       "PS                          23.09375\n",
       "DDTW_Rn_1NN                 23.12500\n",
       "DTW_R1_1NN                  23.80000\n",
       "MLP                         24.11250\n",
       "SAXVSM                      24.14375\n",
       "ACF                         24.34375\n",
       "DDTW_R1_1NN                 25.68125\n",
       "BoP                         25.77500\n",
       "SVML                        26.34375\n",
       "Euclidean_1NN               27.57500\n",
       "FS                          28.99375\n",
       "BN                          30.32500\n",
       "NB                          32.48125\n",
       "Logistic                    33.80000\n",
       "C45                         34.92500\n",
       "dtype: float64"
      ]
     },
     "execution_count": 12,
     "metadata": {},
     "output_type": "execute_result"
    }
   ],
   "source": [
    "r = pd.merge(results, tsfresh, left_index=True, right_index=True).T\n",
    "\n",
    "r.rank(ascending=False).mean(axis=1).sort_values()"
   ]
  },
  {
   "cell_type": "code",
   "execution_count": null,
   "metadata": {},
   "outputs": [],
   "source": []
  },
  {
   "cell_type": "code",
   "execution_count": null,
   "metadata": {},
   "outputs": [],
   "source": []
  },
  {
   "cell_type": "code",
   "execution_count": null,
   "metadata": {},
   "outputs": [],
   "source": []
  },
  {
   "cell_type": "code",
   "execution_count": null,
   "metadata": {},
   "outputs": [],
   "source": []
  }
 ],
 "metadata": {
  "kernelspec": {
   "display_name": "Python [conda env:.conda-sktime] *",
   "language": "python",
   "name": "conda-env-.conda-sktime-py"
  },
  "language_info": {
   "codemirror_mode": {
    "name": "ipython",
    "version": 3
   },
   "file_extension": ".py",
   "mimetype": "text/x-python",
   "name": "python",
   "nbconvert_exporter": "python",
   "pygments_lexer": "ipython3",
   "version": "3.7.6"
  }
 },
 "nbformat": 4,
 "nbformat_minor": 2
}
